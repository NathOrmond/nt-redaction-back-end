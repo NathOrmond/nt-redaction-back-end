{
 "metadata": {
  "language_info": {
   "codemirror_mode": {
    "name": "ipython",
    "version": 3
   },
   "file_extension": ".py",
   "mimetype": "text/x-python",
   "name": "python",
   "nbconvert_exporter": "python",
   "pygments_lexer": "ipython3",
   "version": "3.9.4"
  },
  "orig_nbformat": 4,
  "kernelspec": {
   "name": "python3",
   "display_name": "Python 3.9.4 64-bit"
  },
  "interpreter": {
   "hash": "aee8b7b246df8f9039afb4144a1f6fd8d2ca17a180786b69acc140d282b71a49"
  }
 },
 "nbformat": 4,
 "nbformat_minor": 2,
 "cells": [
  {
   "source": [
    "### Notebook Goals\n",
    "- Implementing a simpler version of the Levenshtein-Damerau distance calculator\n",
    "    - [x] For strings of the same length\n",
    "    - [ ] For strings of different lenghts\n",
    "- Understanding how this is different from what Ian wants"
   ],
   "cell_type": "markdown",
   "metadata": {}
  },
  {
   "cell_type": "code",
   "execution_count": 29,
   "metadata": {},
   "outputs": [],
   "source": [
    "tests = [['back', 'back', 0],\n",
    "         ['back', 'book', 2],\n",
    "         ['back', 'balk', 1],\n",
    "         ['kitten', 'sitting', 1],\n",
    "         ['kitten', 'sitten', 1]]"
   ]
  },
  {
   "source": [
    "### Formal defition\n",
    "\n",
    "The edit distance between two strings _a_ and _b_ is the minium number of operations that transforms _a_ into _b_. You can have many different sets of allowed operations, Levenshtein defined these three as the only valid ones, all with the same weight.\n",
    "\n",
    "1. **Insertion**. _xz_ --> _xyz_\n",
    "2. **Deletion**. _xyz_ --> _xz_\n",
    "3. **Substition**. _xyz_ --> _xwz_\n",
    "\n"
   ],
   "cell_type": "markdown",
   "metadata": {}
  },
  {
   "source": [
    "### Examples\n",
    "\n",
    "#### Same length string: _kitten_ to _sitten_\n",
    "- they are the same length, so there cannot be any insertion or deletion\n",
    "- check each character in a, a_i against b_i, if they are different, +1, else 0\n",
    "\n",
    "#### Different length strings: _kitten_ to _sitting_\n",
    "\n",
    "????\n",
    "\n",
    "|0|1|2|3|4|5|6|\n",
    "|:-:|:-:|:-:|:-:|:-:|:-:|:-:|\n",
    "|k|i|t|t|e|n| |\n",
    "|s|i|t|t|i|n|g|\n"
   ],
   "cell_type": "markdown",
   "metadata": {}
  },
  {
   "cell_type": "code",
   "execution_count": 18,
   "metadata": {},
   "outputs": [],
   "source": [
    "def naive_same_len_str_calculator(str1, str2):\n",
    "    if len(str1) != len(str2):\n",
    "        raise ValueError('Only same length strings please.')\n",
    "    distance = 0\n",
    "    for char in str1:\n",
    "        if char not in str2:\n",
    "            distance+=1 \n",
    "    return distance"
   ]
  },
  {
   "cell_type": "code",
   "execution_count": 30,
   "metadata": {},
   "outputs": [
    {
     "output_type": "stream",
     "name": "stdout",
     "text": [
      "['back', 'back', 0] 0\n['back', 'book', 2] 2\n['back', 'balk', 1] 1\n['kitten', 'sitting', 1] raised an error.\n['kitten', 'sitten', 1] 1\n"
     ]
    }
   ],
   "source": [
    "for i in tests:\n",
    "    try:\n",
    "        print(i, naive_same_len_str_calculator(i[0], i[1]))\n",
    "    except:\n",
    "        print(i, 'raised an error.')\n",
    "        pass\n"
   ]
  }
 ]
}