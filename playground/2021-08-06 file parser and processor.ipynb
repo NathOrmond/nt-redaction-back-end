{
 "cells": [
  {
   "cell_type": "code",
   "execution_count": 1,
   "id": "ec263d99",
   "metadata": {},
   "outputs": [],
   "source": [
    "import os"
   ]
  },
  {
   "cell_type": "code",
   "execution_count": 2,
   "id": "80b8a327",
   "metadata": {},
   "outputs": [
    {
     "data": {
      "text/plain": [
       "'/Users/vegomez/Github/vvveracruz/nt-redaction-back-end/playground'"
      ]
     },
     "execution_count": 2,
     "metadata": {},
     "output_type": "execute_result"
    }
   ],
   "source": [
    "os.getcwd()"
   ]
  },
  {
   "cell_type": "code",
   "execution_count": 21,
   "id": "1f890a3b",
   "metadata": {},
   "outputs": [
    {
     "name": "stdout",
     "output_type": "stream",
     "text": [
      "υτή είναι μια πρόταση και είναι \n",
      "\n",
      "αρκετά μεγάλη αλλά όχι τόσο πολύ \n",
      "\n",
      "που θα χρειαστεί λίγος χρόνος για \n",
      "\n",
      "την επεξεργασία της\n"
     ]
    }
   ],
   "source": [
    "with open(\"../tests/test.txt\", \"r\") as file:\n",
    "    for line in file:\n",
    "        print(line)"
   ]
  },
  {
   "cell_type": "code",
   "execution_count": 22,
   "id": "8b8d66c0",
   "metadata": {},
   "outputs": [],
   "source": [
    "import os\n",
    "from datetime import datetime\n",
    "import pytz\n",
    "import random\n",
    "import string"
   ]
  },
  {
   "cell_type": "code",
   "execution_count": 74,
   "id": "60a31d6e",
   "metadata": {},
   "outputs": [],
   "source": [
    "class FileMapper():\n",
    "    '''This class will map every unique word in a file to a randomly\n",
    "    assigned unique id.'''\n",
    "    \n",
    "    _default_out_dir=os.getcwd()+'/output/'+datetime.now(pytz.timezone('Europe/London')).strftime('%Y-%m-%d')+'/'\n",
    "    \n",
    "    def __init__(self, in_dir, out_dir=None, ignore_chars='\\n'):\n",
    "        self.in_dir=in_dir    # don't want to be able to modify this\n",
    "        self._out_dir=None\n",
    "        self._ignore_chars=ignore_chars\n",
    "        self._words={} \n",
    "        \n",
    "    @property\n",
    "    def out_dir(self):\n",
    "        if self._out_dir is None:\n",
    "            self._out_dir=self._default_out_dir\n",
    "        return self._out_dir\n",
    "    \n",
    "    @out_dir.setter\n",
    "    def out_dir(self, dir):\n",
    "        self._out_dir = dir\n",
    "    \n",
    "    @property\n",
    "    def ignore_chars(self):\n",
    "        return self._ignore_chars\n",
    "    \n",
    "    @ignore_chars.setter\n",
    "    def ignore_chars(self, chars):\n",
    "        self._ignore_chars=chars\n",
    "    \n",
    "    \n",
    "    def _text_to_wordlist(self, in_dir):\n",
    "        words = []\n",
    "        with open(in_dir) as file:\n",
    "            for line in file:\n",
    "                line=line.strip()\n",
    "                for word in line.split(' '):\n",
    "                    words.append(word)\n",
    "        return words\n",
    "    \n",
    "    def _word_id(self, word):\n",
    "        if word not in self._words.keys():\n",
    "            # this method of getting ids can encode 218340106 million words (english has 1 million)\n",
    "            lst = [random.choice(string.ascii_letters + string.digits) for n in range(8)]\n",
    "            s = \"\".join(lst)\n",
    "            word_id='word_'+s\n",
    "            self._words[word]=word_id\n",
    "        return self._words[word]\n",
    "    \n",
    "    def mapper(self):\n",
    "        wordlist=self._text_to_wordlist(self.in_dir)\n",
    "        mapped_wordlist=[]\n",
    "        for word in wordlist:\n",
    "            mapped_word=self._word_id(word)\n",
    "            mapped_wordlist.append(mapped_word)\n",
    "        return ' '.join(mapped_wordlist)\n",
    "    \n",
    "    @property\n",
    "    def mapped_text(self):\n",
    "        ret\n",
    "        "
   ]
  },
  {
   "cell_type": "code",
   "execution_count": 81,
   "id": "9e94c2e1",
   "metadata": {},
   "outputs": [],
   "source": [
    "f=FileMapper(\"../tests/a_sentence.txt\")\n",
    "# f.text_to_wordlist() "
   ]
  },
  {
   "cell_type": "code",
   "execution_count": 83,
   "id": "02c3694f",
   "metadata": {},
   "outputs": [
    {
     "data": {
      "text/plain": [
       "'word_KaMjVMrE word_69a3FBiw word_DhQFpOpa word_eBnMZT3j word_DmJQXyOu word_69a3FBiw word_jAnmvB9I word_mbyQh7E6 word_rEycnWMT word_3Ti9uOPz word_9F0o1iqw word_w1Lcqp8i word_sPHDrAia word_bdMNvoop word_XkDYXHDj word_apruBwjd word_dL4gEYQA word_8FjdoL7h word_ZrBa57h7 word_Et7MfgPm word_eFuQ3ord'"
      ]
     },
     "execution_count": 83,
     "metadata": {},
     "output_type": "execute_result"
    }
   ],
   "source": [
    "f.mapped_text()"
   ]
  },
  {
   "cell_type": "code",
   "execution_count": 90,
   "id": "7fdc3f23",
   "metadata": {},
   "outputs": [],
   "source": [
    "f2=FileMapper(\"../tests/with_dupes.txt\")"
   ]
  },
  {
   "cell_type": "code",
   "execution_count": 95,
   "id": "3fcd2b37",
   "metadata": {},
   "outputs": [
    {
     "data": {
      "text/plain": [
       "{'υτή': 'word_dqYyFAkA',\n",
       " 'είναι': 'word_U45eVJS7',\n",
       " 'μια': 'word_KIAyZ9wS',\n",
       " 'λίγος': 'word_DWPIqExN',\n",
       " 'πρόταση': 'word_hEXO0amH',\n",
       " 'και': 'word_qt6Uhfsr',\n",
       " 'αρκετά': 'word_gs3a4SAL',\n",
       " 'μεγάλη': 'word_0NJ4Zvsz',\n",
       " 'αλλά': 'word_kmYWPVuF',\n",
       " 'όχι': 'word_FKiTbWjP',\n",
       " 'τόσο': 'word_GcPmUVFe',\n",
       " 'πολύ': 'word_IBpc9lmq',\n",
       " 'που': 'word_MyVTdPvx',\n",
       " 'θα': 'word_kUmTRX9w',\n",
       " 'χρειαστεί': 'word_A8vmzqEf',\n",
       " 'χρόνος': 'word_SCk1rS1W',\n",
       " 'για': 'word_PcKBWH2v',\n",
       " 'την': 'word_SE4kZpP9',\n",
       " 'επεξεργασία': 'word_TaUQJs3Q',\n",
       " 'της': 'word_XNhKHIQ9'}"
      ]
     },
     "execution_count": 95,
     "metadata": {},
     "output_type": "execute_result"
    }
   ],
   "source": [
    "f2._words"
   ]
  }
 ],
 "metadata": {
  "kernelspec": {
   "display_name": "Python 3 (ipykernel)",
   "language": "python",
   "name": "python3"
  },
  "language_info": {
   "codemirror_mode": {
    "name": "ipython",
    "version": 3
   },
   "file_extension": ".py",
   "mimetype": "text/x-python",
   "name": "python",
   "nbconvert_exporter": "python",
   "pygments_lexer": "ipython3",
   "version": "3.7.9"
  }
 },
 "nbformat": 4,
 "nbformat_minor": 5
}
