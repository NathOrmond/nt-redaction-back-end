{
 "cells": [
  {
   "cell_type": "markdown",
   "metadata": {},
   "source": [
    "## Top down approach to recursiveness"
   ]
  },
  {
   "cell_type": "markdown",
   "metadata": {},
   "source": [
    "[🔗 Wikipedia article](https://en.wikipedia.org/wiki/Dynamic_programming)"
   ]
  },
  {
   "cell_type": "markdown",
   "metadata": {},
   "source": [
    "### An example with fibonacci's"
   ]
  },
  {
   "cell_type": "code",
   "execution_count": 1,
   "metadata": {},
   "outputs": [],
   "source": [
    "import timeit"
   ]
  },
  {
   "cell_type": "code",
   "execution_count": 17,
   "metadata": {},
   "outputs": [],
   "source": [
    "def naive_fib(n, logging=False):\n",
    "    if logging: \n",
    "        print(f'Calculating fib({n})...')\n",
    "    if n <= 1: \n",
    "        return n\n",
    "    else: \n",
    "        return naive_fib(n-1, logging) + naive_fib(n-2, logging)"
   ]
  },
  {
   "cell_type": "code",
   "execution_count": 19,
   "metadata": {},
   "outputs": [
    {
     "name": "stdout",
     "output_type": "stream",
     "text": [
      "Calculating fib(5)...\n",
      "Calculating fib(4)...\n",
      "Calculating fib(3)...\n",
      "Calculating fib(2)...\n",
      "Calculating fib(1)...\n",
      "Calculating fib(0)...\n",
      "Calculating fib(1)...\n",
      "Calculating fib(2)...\n",
      "Calculating fib(1)...\n",
      "Calculating fib(0)...\n",
      "Calculating fib(3)...\n",
      "Calculating fib(2)...\n",
      "Calculating fib(1)...\n",
      "Calculating fib(0)...\n",
      "Calculating fib(1)...\n"
     ]
    },
    {
     "data": {
      "text/plain": [
       "5"
      ]
     },
     "execution_count": 19,
     "metadata": {},
     "output_type": "execute_result"
    }
   ],
   "source": [
    "naive_fib(5, logging=True)"
   ]
  },
  {
   "cell_type": "markdown",
   "metadata": {},
   "source": [
    "The function runs multiple times for the same number! This is not optimal, especially for n >>"
   ]
  },
  {
   "cell_type": "code",
   "execution_count": 25,
   "metadata": {},
   "outputs": [
    {
     "name": "stdout",
     "output_type": "stream",
     "text": [
      "Time elapsed: 0.47146251999998867 \n",
      "Result 832040\n"
     ]
    }
   ],
   "source": [
    "start = timeit.default_timer()\n",
    "n = naive_fib(30, logging=False)\n",
    "stop = timeit.default_timer()\n",
    "print('Time elapsed:', stop-start, '\\nResult', n)"
   ]
  },
  {
   "cell_type": "code",
   "execution_count": 27,
   "metadata": {},
   "outputs": [
    {
     "name": "stdout",
     "output_type": "stream",
     "text": [
      "Time elapsed: 57.85042557699995 \n",
      "Result 102334155\n"
     ]
    }
   ],
   "source": [
    "start = timeit.default_timer()\n",
    "n = naive_fib(40, logging=False)\n",
    "stop = timeit.default_timer()\n",
    "print('Time elapsed:', stop-start, '\\nResult', n)"
   ]
  },
  {
   "cell_type": "markdown",
   "metadata": {},
   "source": [
    "The difference in time taken between n=30 and n=40 is really big."
   ]
  },
  {
   "cell_type": "markdown",
   "metadata": {},
   "source": [
    "### A solution"
   ]
  },
  {
   "cell_type": "markdown",
   "metadata": {},
   "source": [
    "When we start we already know which values of n we're going to have to call recursively; we can do it once in stead. So for n=5, we'd calculate fib(4), fib(3), fib(2), fib(1) and fib(0) ahead of time, and only once. "
   ]
  },
  {
   "cell_type": "markdown",
   "metadata": {},
   "source": [
    "#### Top–down"
   ]
  },
  {
   "cell_type": "code",
   "execution_count": 52,
   "metadata": {},
   "outputs": [],
   "source": [
    "MAP = {0:0, 1:1}\n",
    "def dynamic_fib(n):\n",
    "    if n not in MAP.keys():\n",
    "        MAP[n] = dynamic_fib(n-1)+dynamic_fib(n-2)\n",
    "    return MAP[n]"
   ]
  },
  {
   "cell_type": "code",
   "execution_count": 56,
   "metadata": {},
   "outputs": [
    {
     "name": "stdout",
     "output_type": "stream",
     "text": [
      "Time elapsed: 9.05619999684859e-05 \n",
      "Result 832040\n"
     ]
    }
   ],
   "source": [
    "start = timeit.default_timer()\n",
    "d = dynamic_fib(30)\n",
    "stop = timeit.default_timer()\n",
    "print('Time elapsed:', stop-start, '\\nResult', d)"
   ]
  },
  {
   "cell_type": "code",
   "execution_count": 58,
   "metadata": {},
   "outputs": [
    {
     "name": "stdout",
     "output_type": "stream",
     "text": [
      "Time elapsed: 9.115400007431163e-05 \n",
      "Result 354224848179261915075\n"
     ]
    }
   ],
   "source": [
    "start = timeit.default_timer()\n",
    "d = dynamic_fib(100)\n",
    "stop = timeit.default_timer()\n",
    "print('Time elapsed:', stop-start, '\\nResult', d)"
   ]
  },
  {
   "cell_type": "markdown",
   "metadata": {},
   "source": [
    "#### (Other approaches are available)"
   ]
  }
 ],
 "metadata": {
  "kernelspec": {
   "display_name": "Python 3",
   "language": "python",
   "name": "python3"
  },
  "language_info": {
   "codemirror_mode": {
    "name": "ipython",
    "version": 3
   },
   "file_extension": ".py",
   "mimetype": "text/x-python",
   "name": "python",
   "nbconvert_exporter": "python",
   "pygments_lexer": "ipython3",
   "version": "3.9.4"
  }
 },
 "nbformat": 4,
 "nbformat_minor": 4
}
