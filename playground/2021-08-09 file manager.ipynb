{
 "cells": [
  {
   "cell_type": "code",
   "execution_count": 1,
   "id": "14a740c9",
   "metadata": {},
   "outputs": [],
   "source": [
    "import os\n",
    "from datetime import datetime\n",
    "import pytz"
   ]
  },
  {
   "cell_type": "code",
   "execution_count": 5,
   "id": "4b947c44",
   "metadata": {},
   "outputs": [],
   "source": [
    "class OutputManager():\n",
    "    _default_dir=os.getcwd()+'/output/'+datetime.now(pytz.timezone('Europe/London')).strftime('%Y-%m-%d')+'/'\n",
    "    \n",
    "    def __init__(self, dir=None):\n",
    "        self._dir=dir\n",
    "        return None\n",
    "    \n",
    "    @property\n",
    "    def dir(self):\n",
    "        if self._dir is None:\n",
    "            self._dir=self._default_dir\n",
    "        return self._dir\n",
    "    \n",
    "    @dir.setter\n",
    "    def dir(self, out_dir):\n",
    "        self._dir=dir\n",
    "    \n",
    "    def filename(self, s=''):\n",
    "        return datetime.now(pytz.timezone('Europe/London')).strftime('%Y-%m-%d %H:%M:%S')+' '+s"
   ]
  },
  {
   "cell_type": "code",
   "execution_count": 6,
   "id": "dd478354",
   "metadata": {},
   "outputs": [],
   "source": [
    "out=OutputManager()"
   ]
  },
  {
   "cell_type": "code",
   "execution_count": 9,
   "id": "20991bcd",
   "metadata": {},
   "outputs": [
    {
     "data": {
      "text/plain": [
       "'2021-08-10 14:53:52 test'"
      ]
     },
     "execution_count": 9,
     "metadata": {},
     "output_type": "execute_result"
    }
   ],
   "source": []
  }
 ],
 "metadata": {
  "kernelspec": {
   "display_name": "Python 3 (ipykernel)",
   "language": "python",
   "name": "python3"
  },
  "language_info": {
   "codemirror_mode": {
    "name": "ipython",
    "version": 3
   },
   "file_extension": ".py",
   "mimetype": "text/x-python",
   "name": "python",
   "nbconvert_exporter": "python",
   "pygments_lexer": "ipython3",
   "version": "3.7.9"
  }
 },
 "nbformat": 4,
 "nbformat_minor": 5
}
