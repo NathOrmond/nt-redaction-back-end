{
 "cells": [
  {
   "cell_type": "code",
   "execution_count": 12,
   "metadata": {},
   "outputs": [],
   "source": [
    "import sys\n",
    "import os\n",
    "\n",
    "module_path = os.path.abspath(os.path.join('..'))\n",
    "if module_path not in sys.path:\n",
    "    sys.path.append(module_path+\"/\")\n",
    "\n",
    "from redactioncalculator.distance import get_distances"
   ]
  },
  {
   "cell_type": "code",
   "execution_count": 19,
   "metadata": {},
   "outputs": [],
   "source": [
    "import string\n",
    "import random"
   ]
  },
  {
   "cell_type": "code",
   "execution_count": 8,
   "metadata": {},
   "outputs": [],
   "source": [
    "def text_to_wordlist(in_dir):\n",
    "        '''Reads file from in_dir and returns a list with all words in order, \n",
    "        including duplicates.'''\n",
    "        words = []\n",
    "        with open(in_dir) as file:\n",
    "            for line in file:\n",
    "                line=line.strip()\n",
    "                for word in line.split(' '):\n",
    "                    words.append(word)\n",
    "        return words"
   ]
  },
  {
   "cell_type": "code",
   "execution_count": 55,
   "metadata": {},
   "outputs": [],
   "source": [
    "def mapper(wordlist, dictionary={}):\n",
    "    '''\n",
    "    Returns a string with the words from wordlist mapped to unique characters.\n",
    "    \n",
    "    Inputs\n",
    "    ------\n",
    "    wordlist:    lst    A list of words.\n",
    "    dictionary:  dict   A dictionary mapping words to characters, to be used if multiple\n",
    "                        wordlists need to be encoded using the same mapping.\n",
    "    \n",
    "    Returns\n",
    "    -------\n",
    "    str, dict           A string containing the mapped words as characters and a dictionary\n",
    "                        containing the mapping.\n",
    "    \n",
    "    Raises\n",
    "    ------\n",
    "    RuntimeError: if there aren't enough carracters to encode the wordlist.\n",
    "    '''\n",
    "    out=''\n",
    "    chars=string.ascii_letters+string.digits\n",
    "    wordlist=[word.lower() for word in wordlist]\n",
    "    dictionary=dictionary # flushes any previous local dictionaries\n",
    "    \n",
    "    if len(wordlist) > len(chars):\n",
    "        raise RuntimeError('The wordlist is too long and cannot be encoded by characters only.')\n",
    "    \n",
    "    for word in wordlist:\n",
    "        if word not in dictionary.keys():\n",
    "            c=random.choice(chars)\n",
    "            chars=chars.replace(c, \"\") #ensuring mapping uniqueness\n",
    "            dictionary[word]=c\n",
    "        out+=dictionary[word]\n",
    "    return out, dictionary"
   ]
  },
  {
   "cell_type": "code",
   "execution_count": 30,
   "metadata": {},
   "outputs": [
    {
     "data": {
      "text/plain": [
       "'bcdefghijklmnopqrstuvwxyzABCDEFGHIJKLMNOPQRSTUVWXYZ0123456789'"
      ]
     },
     "execution_count": 30,
     "metadata": {},
     "output_type": "execute_result"
    }
   ],
   "source": [
    "chars=string.ascii_letters+string.digits\n",
    "chars.replace(\"a\", \"\").strip()"
   ]
  },
  {
   "cell_type": "code",
   "execution_count": 35,
   "metadata": {},
   "outputs": [],
   "source": [
    "wordlist=text_to_wordlist(os.getcwd()+'/../tests/a_sentence.txt')"
   ]
  },
  {
   "cell_type": "code",
   "execution_count": 57,
   "metadata": {},
   "outputs": [],
   "source": [
    "out, dictionary = mapper(text)"
   ]
  },
  {
   "cell_type": "code",
   "execution_count": 56,
   "metadata": {},
   "outputs": [
    {
     "data": {
      "text/plain": [
       "'wwb'"
      ]
     },
     "execution_count": 56,
     "metadata": {},
     "output_type": "execute_result"
    }
   ],
   "source": [
    "out"
   ]
  }
 ],
 "metadata": {
  "kernelspec": {
   "display_name": "Python 3",
   "language": "python",
   "name": "python3"
  },
  "language_info": {
   "codemirror_mode": {
    "name": "ipython",
    "version": 3
   },
   "file_extension": ".py",
   "mimetype": "text/x-python",
   "name": "python",
   "nbconvert_exporter": "python",
   "pygments_lexer": "ipython3",
   "version": "3.9.4"
  }
 },
 "nbformat": 4,
 "nbformat_minor": 4
}
