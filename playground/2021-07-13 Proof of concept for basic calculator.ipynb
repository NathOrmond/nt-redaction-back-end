{
 "cells": [
  {
   "cell_type": "code",
   "execution_count": 2,
   "metadata": {},
   "outputs": [],
   "source": [
    "import numpy as np\n",
    "import pandas as pd"
   ]
  },
  {
   "cell_type": "code",
   "execution_count": 54,
   "metadata": {},
   "outputs": [],
   "source": [
    "def friendly_table_output(array, a, b):\n",
    "    df = pd.DataFrame(array)\n",
    "    df=df.set_index([list(a)])\n",
    "    df=df.set_axis([list(b)], axis=1)\n",
    "    \n",
    "#     print(df, '\\n')\n",
    "    return df"
   ]
  },
  {
   "cell_type": "code",
   "execution_count": 55,
   "metadata": {},
   "outputs": [],
   "source": [
    "def levenschtein_distance_basic(a, b, output_distance=True, output_table=False):\n",
    "    a = ' '+a # a_0 is always the empty string\n",
    "    b = ' '+b\n",
    "    \n",
    "    # costing\n",
    "    deletion_cost = 1\n",
    "    insertion_cost = 1\n",
    "    \n",
    "    D = np.zeros((len(a), len(b)), dtype=int)\n",
    "    \n",
    "    for i in range(len(a)):\n",
    "        D[i][0] = i\n",
    "    \n",
    "    for j in range(len(b)):\n",
    "        D[0][j] = j\n",
    "        \n",
    "    for j in range(1, len(b)):\n",
    "        for i in range(1, len(a)):\n",
    "            if a[i] == b[j]:\n",
    "                substitution_cost = 0\n",
    "            else:\n",
    "                substitution_cost = 1\n",
    "            \n",
    "            D[i, j] = min(\n",
    "                D[i-1, j] + deletion_cost,\n",
    "                D[i, j-1] + insertion_cost, \n",
    "                D[i-1, j-1] + substitution_cost\n",
    "            )\n",
    "            \n",
    "    if output_table:\n",
    "        return friendly_table_output(D, a, b)\n",
    "    if output_distance:\n",
    "        return D[-1][-1]"
   ]
  },
  {
   "cell_type": "markdown",
   "metadata": {},
   "source": [
    "Ian's Envisioned Initial Output\n",
    "\n",
    "Strings: back / book / balk\n",
    "\n",
    "|      | back | book | balk |\n",
    "|:----:|:----:|:----:|:----:|\n",
    "| back |  0   |  2   |   1  |\n",
    "| book |  2   |  0   |   2  |\n",
    "| balk |  1   |  2   |   0  |\n"
   ]
  },
  {
   "cell_type": "code",
   "execution_count": 37,
   "metadata": {},
   "outputs": [],
   "source": [
    "test_cases = ['back', 'book', 'balk']"
   ]
  },
  {
   "cell_type": "code",
   "execution_count": 45,
   "metadata": {},
   "outputs": [],
   "source": [
    "def test_levD(test_cases):\n",
    "    df=pd.DataFrame(index=test_cases, columns=test_cases)\n",
    "    \n",
    "    for i in test_cases:\n",
    "        for j in test_cases:\n",
    "            df[i][j] = levD(i, j)\n",
    "        \n",
    "    return df"
   ]
  },
  {
   "cell_type": "code",
   "execution_count": 46,
   "metadata": {},
   "outputs": [
    {
     "data": {
      "text/html": [
       "<div>\n",
       "<style scoped>\n",
       "    .dataframe tbody tr th:only-of-type {\n",
       "        vertical-align: middle;\n",
       "    }\n",
       "\n",
       "    .dataframe tbody tr th {\n",
       "        vertical-align: top;\n",
       "    }\n",
       "\n",
       "    .dataframe thead th {\n",
       "        text-align: right;\n",
       "    }\n",
       "</style>\n",
       "<table border=\"1\" class=\"dataframe\">\n",
       "  <thead>\n",
       "    <tr style=\"text-align: right;\">\n",
       "      <th></th>\n",
       "      <th>back</th>\n",
       "      <th>book</th>\n",
       "      <th>balk</th>\n",
       "    </tr>\n",
       "  </thead>\n",
       "  <tbody>\n",
       "    <tr>\n",
       "      <th>back</th>\n",
       "      <td>0</td>\n",
       "      <td>2</td>\n",
       "      <td>1</td>\n",
       "    </tr>\n",
       "    <tr>\n",
       "      <th>book</th>\n",
       "      <td>2</td>\n",
       "      <td>0</td>\n",
       "      <td>2</td>\n",
       "    </tr>\n",
       "    <tr>\n",
       "      <th>balk</th>\n",
       "      <td>1</td>\n",
       "      <td>2</td>\n",
       "      <td>0</td>\n",
       "    </tr>\n",
       "  </tbody>\n",
       "</table>\n",
       "</div>"
      ],
      "text/plain": [
       "     back book balk\n",
       "back    0    2    1\n",
       "book    2    0    2\n",
       "balk    1    2    0"
      ]
     },
     "execution_count": 46,
     "metadata": {},
     "output_type": "execute_result"
    }
   ],
   "source": [
    "test_levD(test_cases)"
   ]
  },
  {
   "cell_type": "code",
   "execution_count": 56,
   "metadata": {},
   "outputs": [],
   "source": [
    "def get_distances(func, sources, targets=[]):\n",
    "    '''\n",
    "    Returns a dataframe with the distances from the sources to the targets. \n",
    "    If the targets is empty it returns the distance between all elements of the sources to each other\n",
    "    \n",
    "    Inputs\n",
    "    \n",
    "    func:    the distance calculator function to use\n",
    "    sources: list of strings\n",
    "    targets: empty list or list of strings\n",
    "    \n",
    "    Outputs:\n",
    "    pd.DataFrame object with rows = sources and columns = targets.\n",
    "    '''\n",
    "    if targets == []:\n",
    "        targets=sources\n",
    "        \n",
    "    df = pd.DataFrame( index = sources, columns = targets )\n",
    "    \n",
    "    for i in targets:\n",
    "        for j in sources:\n",
    "            df[i][j] = func(i, j)\n",
    "    \n",
    "    return df"
   ]
  },
  {
   "cell_type": "code",
   "execution_count": 57,
   "metadata": {},
   "outputs": [
    {
     "data": {
      "text/html": [
       "<div>\n",
       "<style scoped>\n",
       "    .dataframe tbody tr th:only-of-type {\n",
       "        vertical-align: middle;\n",
       "    }\n",
       "\n",
       "    .dataframe tbody tr th {\n",
       "        vertical-align: top;\n",
       "    }\n",
       "\n",
       "    .dataframe thead th {\n",
       "        text-align: right;\n",
       "    }\n",
       "</style>\n",
       "<table border=\"1\" class=\"dataframe\">\n",
       "  <thead>\n",
       "    <tr style=\"text-align: right;\">\n",
       "      <th></th>\n",
       "      <th>sitting</th>\n",
       "    </tr>\n",
       "  </thead>\n",
       "  <tbody>\n",
       "    <tr>\n",
       "      <th>kitten</th>\n",
       "      <td>3</td>\n",
       "    </tr>\n",
       "  </tbody>\n",
       "</table>\n",
       "</div>"
      ],
      "text/plain": [
       "       sitting\n",
       "kitten       3"
      ]
     },
     "execution_count": 57,
     "metadata": {},
     "output_type": "execute_result"
    }
   ],
   "source": [
    "get_distances(levD, ['kitten'], ['sitting'])"
   ]
  },
  {
   "cell_type": "code",
   "execution_count": null,
   "metadata": {},
   "outputs": [],
   "source": []
  },
  {
   "cell_type": "code",
   "execution_count": null,
   "metadata": {},
   "outputs": [],
   "source": []
  }
 ],
 "metadata": {
  "kernelspec": {
   "display_name": "Python 3",
   "language": "python",
   "name": "python3"
  },
  "language_info": {
   "codemirror_mode": {
    "name": "ipython",
    "version": 3
   },
   "file_extension": ".py",
   "mimetype": "text/x-python",
   "name": "python",
   "nbconvert_exporter": "python",
   "pygments_lexer": "ipython3",
   "version": "3.9.4"
  }
 },
 "nbformat": 4,
 "nbformat_minor": 4
}
