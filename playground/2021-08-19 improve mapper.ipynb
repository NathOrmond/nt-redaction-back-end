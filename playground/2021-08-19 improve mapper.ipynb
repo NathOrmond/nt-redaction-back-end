{
 "cells": [
  {
   "cell_type": "code",
   "execution_count": 35,
   "metadata": {},
   "outputs": [],
   "source": [
    "import os\n",
    "import string"
   ]
  },
  {
   "cell_type": "code",
   "execution_count": 32,
   "metadata": {},
   "outputs": [],
   "source": [
    "class TextMapper():\n",
    "    def __init__(self, mapped_words={}):\n",
    "        self._mapped_words=mapped_words\n",
    "        \n",
    "    @property\n",
    "    def mapped_words():\n",
    "        self._mapped_words()\n",
    "        \n",
    "    def to_chars():\n",
    "    \n",
    "    def to_ids():\n",
    "        \n",
    "    \n",
    "    \n",
    "        "
   ]
  },
  {
   "cell_type": "code",
   "execution_count": 34,
   "metadata": {},
   "outputs": [
    {
     "data": {
      "text/plain": [
       "'υτή είναι μια λίγος πρόταση και είναιαρκετά μεγάλη αλλά όχι τόσο πολύπου θα χρειαστεί λίγος λίγος χρόνος γιατην επεξεργασία τηςεπεξεργασία αρκετά'"
      ]
     },
     "execution_count": 34,
     "metadata": {},
     "output_type": "execute_result"
    }
   ],
   "source": [
    "t=TextMapper('../tests/with_dupes.txt')\n",
    "t.source_text"
   ]
  },
  {
   "cell_type": "code",
   "execution_count": 23,
   "metadata": {},
   "outputs": [
    {
     "name": "stdout",
     "output_type": "stream",
     "text": [
      "\n"
     ]
    },
    {
     "data": {
      "text/plain": [
       "''"
      ]
     },
     "execution_count": 23,
     "metadata": {},
     "output_type": "execute_result"
    }
   ],
   "source": []
  }
 ],
 "metadata": {
  "kernelspec": {
   "display_name": "Python 3",
   "language": "python",
   "name": "python3"
  },
  "language_info": {
   "codemirror_mode": {
    "name": "ipython",
    "version": 3
   },
   "file_extension": ".py",
   "mimetype": "text/x-python",
   "name": "python",
   "nbconvert_exporter": "python",
   "pygments_lexer": "ipython3",
   "version": "3.9.4"
  }
 },
 "nbformat": 4,
 "nbformat_minor": 4
}
